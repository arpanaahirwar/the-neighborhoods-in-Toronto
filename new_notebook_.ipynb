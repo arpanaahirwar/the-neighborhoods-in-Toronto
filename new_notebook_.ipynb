{
 "cells": [
  {
   "cell_type": "code",
   "execution_count": null,
   "metadata": {},
   "outputs": [],
   "source": [
    " # Import pandas library \n",
    "\n",
    "import pandas as pd \n",
    "\n",
    " # initialize list of lists \n",
    "data = {'PostalCode':['M5G', 'M2H', 'M4B', 'M1J','M4G','M4M','M1R','M9V','M9L','M5V','M1B','M5A'], 'Borough':['Downtown Toronto','North York','East York','Scarborough','East York','East Toronto','Scarborough','Etobicoke','North York','Downtown Toronto','Scarborough','Downtown Toronto'],'PostalCode':['Central Bay Street','Hillcrest Village','Parkview Hill,Woodbine Gardens','Scarborough Village','Leaside','Studio District','Wexford,Maryvale','South Steeles,Silverstone,Humbergate,Jamestown,Thistletown','Humber Summit','CN Tower,Bathurst Quay,Island airport,Harbourfront West,King and Spadina,Railway Lands,South Niagara','Malvern,Rouge','Regent Park','Harbourfront']} \n",
    "\n",
    "# Create the pandas DataFrame \n",
    "df = pd.DataFrame(data) \n",
    "\n",
    "# print dataframe. \n",
    "df \n"
   ]
  },
  {
   "cell_type": "code",
   "execution_count": null,
   "metadata": {},
   "outputs": [],
   "source": []
  },
  {
   "cell_type": "code",
   "execution_count": null,
   "metadata": {},
   "outputs": [],
   "source": []
  },
  {
   "cell_type": "code",
   "execution_count": null,
   "metadata": {},
   "outputs": [],
   "source": []
  }
 ],
 "metadata": {
  "kernelspec": {
   "display_name": "Python 3",
   "language": "python",
   "name": "python3"
  },
  "language_info": {
   "codemirror_mode": {
    "name": "ipython",
    "version": 3
   },
   "file_extension": ".py",
   "mimetype": "text/x-python",
   "name": "python",
   "nbconvert_exporter": "python",
   "pygments_lexer": "ipython3",
   "version": "3.6.7"
  }
 },
 "nbformat": 4,
 "nbformat_minor": 2
}
